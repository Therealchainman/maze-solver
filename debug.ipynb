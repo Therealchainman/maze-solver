{
 "cells": [
  {
   "cell_type": "markdown",
   "metadata": {},
   "source": [
    "# EXAMPLE OF USING THE CODE"
   ]
  },
  {
   "cell_type": "code",
   "execution_count": 1,
   "metadata": {},
   "outputs": [],
   "source": [
    "from maze_solver.models.border import Border\n",
    "from maze_solver.models.maze import Maze\n",
    "from maze_solver.models.role import Role\n",
    "from maze_solver.models.square import Square\n",
    "maze = Maze(\n",
    "    squares=(\n",
    "        Square(0, 0, 0, Border.NORTH | Border.WEST),\n",
    "        Square(1, 0, 1, Border.NORTH | Border.EAST),\n",
    "        Square(2, 0, 2, Border.WEST | Border.EAST, Role.EXIT),\n",
    "        Square(3, 0, 3, Border.NORTH | Border.WEST | Border.EAST),\n",
    "        Square(4, 1, 0, Border.SOUTH | Border.WEST | Border.EAST),\n",
    "        Square(5, 1, 1, Border.WEST | Border.EAST),\n",
    "        Square(6, 1, 2, Border.SOUTH | Border.WEST),\n",
    "        Square(7, 1, 3, Border.EAST),\n",
    "        Square(8, 2, 0, Border.NORTH | Border.WEST, Role.ENTRANCE),\n",
    "        Square(9, 2, 1, Border.SOUTH),\n",
    "        Square(10, 2, 2, Border.NORTH | Border.SOUTH),\n",
    "        Square(11, 2, 3, Border.SOUTH | Border.EAST),\n",
    "    )\n",
    ")\n"
   ]
  },
  {
   "cell_type": "code",
   "execution_count": 2,
   "metadata": {},
   "outputs": [
    {
     "data": {
      "text/plain": [
       "(2, 3)"
      ]
     },
     "execution_count": 2,
     "metadata": {},
     "output_type": "execute_result"
    }
   ],
   "source": [
    "maze.height, maze.width"
   ]
  },
  {
   "cell_type": "code",
   "execution_count": 4,
   "metadata": {},
   "outputs": [
    {
     "name": "stdout",
     "output_type": "stream",
     "text": [
      "Square(index=0, row=0, column=0, border=<Border.WEST|NORTH: 9>, role=<Role.NONE: 0>)\n",
      "Square(index=1, row=0, column=1, border=<Border.EAST|NORTH: 5>, role=<Role.NONE: 0>)\n",
      "Square(index=2, row=0, column=2, border=<Border.WEST|EAST: 12>, role=<Role.EXIT: 2>)\n",
      "Square(index=3, row=0, column=3, border=<Border.WEST|EAST|NORTH: 13>, role=<Role.NONE: 0>)\n",
      "Square(index=4, row=1, column=0, border=<Border.WEST|EAST|SOUTH: 14>, role=<Role.NONE: 0>)\n",
      "Square(index=5, row=1, column=1, border=<Border.WEST|EAST: 12>, role=<Role.NONE: 0>)\n",
      "Square(index=6, row=1, column=2, border=<Border.WEST|SOUTH: 10>, role=<Role.NONE: 0>)\n",
      "Square(index=7, row=1, column=3, border=<Border.EAST: 4>, role=<Role.NONE: 0>)\n",
      "Square(index=8, row=2, column=0, border=<Border.WEST|NORTH: 9>, role=<Role.ENTRANCE: 1>)\n",
      "Square(index=9, row=2, column=1, border=<Border.SOUTH: 2>, role=<Role.NONE: 0>)\n",
      "Square(index=10, row=2, column=2, border=<Border.SOUTH|NORTH: 3>, role=<Role.NONE: 0>)\n",
      "Square(index=11, row=2, column=3, border=<Border.EAST|SOUTH: 6>, role=<Role.NONE: 0>)\n"
     ]
    }
   ],
   "source": [
    "for sq in maze:\n",
    "  print(sq)"
   ]
  },
  {
   "cell_type": "code",
   "execution_count": null,
   "metadata": {},
   "outputs": [],
   "source": []
  }
 ],
 "metadata": {
  "kernelspec": {
   "display_name": "maze",
   "language": "python",
   "name": "python3"
  },
  "language_info": {
   "codemirror_mode": {
    "name": "ipython",
    "version": 3
   },
   "file_extension": ".py",
   "mimetype": "text/x-python",
   "name": "python",
   "nbconvert_exporter": "python",
   "pygments_lexer": "ipython3",
   "version": "3.10.12"
  },
  "orig_nbformat": 4
 },
 "nbformat": 4,
 "nbformat_minor": 2
}
